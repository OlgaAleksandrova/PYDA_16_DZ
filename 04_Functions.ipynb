{
 "cells": [
  {
   "cell_type": "code",
   "execution_count": 10,
   "metadata": {},
   "outputs": [],
   "source": [
    "documents = [\n",
    "{'type': 'passport', 'number': '2207 876234', 'name': 'Василий Гупкин'},\n",
    "{'type': 'invoice', 'number': '11-2', 'name': 'Геннадий Покемонов'},\n",
    "{'type': 'insurance', 'number': '10006', 'name': 'Аристарх Павлов'}\n",
    "]"
   ]
  },
  {
   "cell_type": "code",
   "execution_count": 11,
   "metadata": {},
   "outputs": [],
   "source": [
    "directories = {\n",
    " '1': ['2207 876234', '11-2'],\n",
    " '2': ['10006'],\n",
    " '3': []\n",
    "}"
   ]
  },
  {
   "cell_type": "markdown",
   "metadata": {},
   "source": [
    "## Общие требования к программе:\n",
    "\n",
    "1. код должен быть грамотно декомпозирован (каждая функция отвечает за свою конкретную задачу, дублирующийся функционал переиспользуется, а его код не повторяется);\n",
    "2. в коде отсутствуют глобальные переменные (за исключением documents и directories);\n",
    "3. пользовательский ввод обрабатывается в цикле while до тех пор, пока пользователь явно не завершит программу (вводом команды “q”)."
   ]
  },
  {
   "cell_type": "markdown",
   "metadata": {},
   "source": [
    "### Пункт 1. Пользователь по команде \"p\" может узнать владельца документа по его номеру"
   ]
  },
  {
   "cell_type": "code",
   "execution_count": 12,
   "metadata": {
    "scrolled": true
   },
   "outputs": [],
   "source": [
    "def p_():\n",
    "    number = input(\"Введите номер документа:\")\n",
    "    for document in documents:\n",
    "        if document['number'] == number:\n",
    "            print(document['name'])\n",
    "            break\n",
    "    else:\n",
    "        print('Документ не найден в базе')"
   ]
  },
  {
   "cell_type": "code",
   "execution_count": 13,
   "metadata": {},
   "outputs": [
    {
     "name": "stdout",
     "output_type": "stream",
     "text": [
      "Введите номер документа:10006\n",
      "Аристарх Павлов\n"
     ]
    }
   ],
   "source": [
    "p_()"
   ]
  },
  {
   "cell_type": "markdown",
   "metadata": {},
   "source": [
    "### Пункт 2. Пользователь по команде \"s\" может по номеру документа узнать на какой полке он хранится"
   ]
  },
  {
   "cell_type": "code",
   "execution_count": 14,
   "metadata": {},
   "outputs": [],
   "source": [
    "def s_():\n",
    "    number = input(\"Введите номер документа:\")\n",
    "    stop = 0\n",
    "    for shelf in directories.items():\n",
    "        for document in shelf[1]:\n",
    "            if number == document:\n",
    "                print(f'Документ хранится на полке: {shelf[0]}')\n",
    "                stop = 1\n",
    "                break\n",
    "        if stop == 1:\n",
    "            break\n",
    "    else:\n",
    "        print('Документ не найден в базе')"
   ]
  },
  {
   "cell_type": "code",
   "execution_count": 125,
   "metadata": {},
   "outputs": [
    {
     "name": "stdout",
     "output_type": "stream",
     "text": [
      "Введите номер документа:11-2\n",
      "Документ хранится на полке: 1\n"
     ]
    }
   ],
   "source": [
    "s_()"
   ]
  },
  {
   "cell_type": "markdown",
   "metadata": {},
   "source": [
    "### Пункт 3. Пользователь по команде \"l\" может увидеть полную информацию по всем документам"
   ]
  },
  {
   "cell_type": "code",
   "execution_count": 15,
   "metadata": {},
   "outputs": [],
   "source": [
    "def l_():\n",
    "    x={}\n",
    "    for document in documents:\n",
    "        for shelf in directories.items():\n",
    "            for doc in shelf[1]:\n",
    "                if document['number'] == doc:\n",
    "                    x['shelf'] = shelf[0]\n",
    "                document.update(x)\n",
    "        print('№: ' + document['number'],'тип: '+ document['type'], 'владелец: ' + document['name'], 'полка хранения: ' + document['shelf'])"
   ]
  },
  {
   "cell_type": "code",
   "execution_count": 177,
   "metadata": {
    "scrolled": true
   },
   "outputs": [
    {
     "name": "stdout",
     "output_type": "stream",
     "text": [
      "№: 2207 876234 тип: passport владелец: Василий Гупкин полка хранения: 1\n",
      "№: 11-2 тип: invoice владелец: Геннадий Покемонов полка хранения: 1\n",
      "№: 10006 тип: insurance владелец: Аристарх Павлов полка хранения: 2\n"
     ]
    }
   ],
   "source": [
    "l_()"
   ]
  },
  {
   "cell_type": "markdown",
   "metadata": {},
   "source": [
    "### Пункт 4. Пользователь по команде \"ads\" может добавить новую полку"
   ]
  },
  {
   "cell_type": "code",
   "execution_count": 16,
   "metadata": {},
   "outputs": [],
   "source": [
    "def ads_():\n",
    "    number = input(\"Введите номер полки: \")\n",
    "    spisok=directories.keys()\n",
    "    if number not in spisok:\n",
    "        directories [number] = []\n",
    "        print('Полка добавлена')\n",
    "    else:\n",
    "        print('Такая полка уже существует.')\n",
    "    print('Текущий перечень полок:',\",\".join(spisok))"
   ]
  },
  {
   "cell_type": "code",
   "execution_count": 247,
   "metadata": {
    "scrolled": true
   },
   "outputs": [
    {
     "name": "stdout",
     "output_type": "stream",
     "text": [
      "Введите номер полки: 3\n",
      "Такая полка уже существует.\n",
      "Текущий перечень полок: 1,2,3\n"
     ]
    }
   ],
   "source": [
    "ads_()"
   ]
  },
  {
   "cell_type": "markdown",
   "metadata": {},
   "source": [
    "### Пункт 5. Пользователь по команде \"ds\" может удалить существующую полку из данных (только если она пустая)"
   ]
  },
  {
   "cell_type": "code",
   "execution_count": 17,
   "metadata": {},
   "outputs": [],
   "source": [
    "def ds_():\n",
    "    number = input(\"Введите номер полки: \")\n",
    "    spisok=directories.keys()\n",
    "    if number not in spisok:\n",
    "        print('Такой полки не существует')\n",
    "    else:\n",
    "        count = len(directories[number])\n",
    "        if count!=0:\n",
    "            print('На полке есть документа, удалите их перед удалением полки.')\n",
    "        else:\n",
    "            del(directories[number])\n",
    "            print('Полка удалена.')    \n",
    "    print('Текущий перечень полок:',\",\".join(spisok))"
   ]
  },
  {
   "cell_type": "code",
   "execution_count": 325,
   "metadata": {
    "scrolled": true
   },
   "outputs": [
    {
     "name": "stdout",
     "output_type": "stream",
     "text": [
      "Введите номер полки: 3\n",
      "Полка удалена.\n",
      "Текущий перечень полок: 1,2\n"
     ]
    }
   ],
   "source": [
    "ds_()"
   ]
  },
  {
   "cell_type": "markdown",
   "metadata": {},
   "source": [
    "### Пользовательский ввод"
   ]
  },
  {
   "cell_type": "code",
   "execution_count": 18,
   "metadata": {},
   "outputs": [],
   "source": [
    "def main():\n",
    "    while True:\n",
    "        commanda = input('Введите команду: ')\n",
    "        if commanda == 'p':\n",
    "            print(p_())\n",
    "        elif commanda == 's':\n",
    "            print(s_())\n",
    "        elif commanda == 'l':\n",
    "            print(l_())\n",
    "        elif commanda == 'ads':\n",
    "            print(ads_())\n",
    "        elif commanda == 'ds':\n",
    "            print(ds_())\n",
    "        elif commanda == 'q':\n",
    "            print('До свидания!')\n",
    "            break"
   ]
  },
  {
   "cell_type": "code",
   "execution_count": 9,
   "metadata": {},
   "outputs": [
    {
     "name": "stdout",
     "output_type": "stream",
     "text": [
      "Введите команду: p\n",
      "Введите номер документа:11-2\n",
      "Геннадий Покемонов\n",
      "None\n",
      "Введите команду: s\n",
      "Введите номер документа:10006\n",
      "Документ хранится на полке: 2\n",
      "None\n",
      "Введите команду: l\n",
      "№: 2207 876234 тип: passport владелец: Василий Гупкин полка хранения: 1\n",
      "№: 11-2 тип: invoice владелец: Геннадий Покемонов полка хранения: 1\n",
      "№: 10006 тип: insurance владелец: Аристарх Павлов полка хранения: 2\n",
      "None\n",
      "Введите команду: ads\n",
      "Введите номер полки: 3\n",
      "Такая полка уже существует.\n",
      "Текущий перечень полок: 1,2,3\n",
      "None\n",
      "Введите команду: ds\n",
      "Введите номер полки: 15\n",
      "Такой полки не существует\n",
      "Текущий перечень полок: 1,2,3\n",
      "None\n",
      "Введите команду: q\n",
      "До свидания!\n"
     ]
    }
   ],
   "source": [
    "main()"
   ]
  }
 ],
 "metadata": {
  "kernelspec": {
   "display_name": "Python 3",
   "language": "python",
   "name": "python3"
  },
  "language_info": {
   "codemirror_mode": {
    "name": "ipython",
    "version": 3
   },
   "file_extension": ".py",
   "mimetype": "text/x-python",
   "name": "python",
   "nbconvert_exporter": "python",
   "pygments_lexer": "ipython3",
   "version": "3.8.5"
  }
 },
 "nbformat": 4,
 "nbformat_minor": 4
}
