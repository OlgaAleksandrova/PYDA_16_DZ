{
 "cells": [
  {
   "cell_type": "markdown",
   "metadata": {},
   "source": [
    "**Задание 1.**\n",
    "*Даны 2 переменных, в которых хранятся строки произвольной длины: phrase_1 и phrase_2.\n",
    "Напишите код, который проверяет какая из этих строк длиннее.*"
   ]
  },
  {
   "cell_type": "code",
   "execution_count": 15,
   "metadata": {},
   "outputs": [],
   "source": [
    "phrase_1 = 'Насколько проще было бы писать программы, если бы не заказчики'\n",
    "phrase_2 = '640Кб должно хватить для любых задач. Билл Гейтс (по легенде)'"
   ]
  },
  {
   "cell_type": "code",
   "execution_count": 16,
   "metadata": {},
   "outputs": [
    {
     "name": "stdout",
     "output_type": "stream",
     "text": [
      "Фраза 1 длиннее фразы 2\n"
     ]
    }
   ],
   "source": [
    "if len (phrase_1) > len (phrase_2):\n",
    "    print('Фраза 1 длиннее фразы 2')\n",
    "elif len (phrase_1) < len (phrase_2):\n",
    "    print('Фраза 2 длиннее фразы 1')\n",
    "else:\n",
    "    print('Фразы равной длины')"
   ]
  },
  {
   "cell_type": "markdown",
   "metadata": {},
   "source": [
    "**Задание 2.**\n",
    "*Дана переменная, в которой хранится четырехзначное число (год). Необходимо написать программу, которая выведет, является ли данный год високосным или обычным.*"
   ]
  },
  {
   "cell_type": "code",
   "execution_count": 25,
   "metadata": {},
   "outputs": [
    {
     "name": "stdout",
     "output_type": "stream",
     "text": [
      "Введите год 2020\n",
      "Високосный год\n"
     ]
    }
   ],
   "source": [
    "year = int(input('Введите год '))\n",
    "if year % 4 == 0 or year % 400 == 0:\n",
    "    print ('Високосный год')\n",
    "else:\n",
    "    print('Обычный год')"
   ]
  },
  {
   "cell_type": "markdown",
   "metadata": {},
   "source": [
    "**Задание 3.**\n",
    "*Необходимо написать программу, которая будет запрашивать у пользователя месяц и дату рождения и выводить соответствующий знак зодиака.*"
   ]
  },
  {
   "cell_type": "code",
   "execution_count": 44,
   "metadata": {},
   "outputs": [
    {
     "name": "stdout",
     "output_type": "stream",
     "text": [
      "Введите день 31\n",
      "Введите месяц Июль\n",
      "Ваш знак зодиака: Лев\n"
     ]
    }
   ],
   "source": [
    "day = int(input('Введите день '))\n",
    "month = input('Введите месяц ')\n",
    "if (day>=22 and month=='Декабрь') or (day<=19 and month=='Январь'):\n",
    "    print(\"Ваш знак зодиака: Козерог\")\n",
    "elif (day>=22 and month=='Январь') or (day<=19 and month=='Февраль'):\n",
    "    print(\"Ваш знак зодиака: Водолей\")\n",
    "elif (day>=20 and month=='Февраль') or (day<=21 and month=='Март'):\n",
    "    print(\"Ваш знак зодиака: Рыба\")\n",
    "elif (day>=22 and month=='Март') or (day<=21 and month=='Апрель'):\n",
    "    print(\"Ваш знак зодиака: Овен\")\n",
    "elif (day>=22 and month=='Апрель') or (day<=21 and month=='Май'):\n",
    "    print(\"Ваш знак зодиака: Телец\")\n",
    "elif (day>=22 and month=='Май') or (day<=21 and month=='Июнь'):\n",
    "    print(\"Ваш знак зодиака: Близнецы\")\n",
    "elif (day>=22 and month=='Июнь') or (day<=21 and month=='Июль'):\n",
    "    print(\"Ваш знак зодиака: Рак\")\n",
    "elif (day>=22 and month=='Июль') or (day<=21 and month=='Август'):\n",
    "    print(\"Ваш знак зодиака: Лев\")\n",
    "elif (day>=22 and month=='Август') or (day<=21 and month=='Сеньябрь'):\n",
    "    print(\"Ваш знак зодиака: Дева\")\n",
    "elif (day>=22 and month=='Сентябрь') or (day<=21 and month=='Октябрь'):\n",
    "    print(\"Ваш знак зодиака: Весы\")\n",
    "elif (day>=22 and month=='Октябрь') or (day<=20 and month=='Ноябрь'):\n",
    "    print(\"Ваш знак зодиака: Скорпион\")\n",
    "elif (day>=21 and month=='Ноябрь') or (day<=21 and month=='Декабрь'):\n",
    "    print(\"Ваш знак зодиака: Стрелец\")"
   ]
  },
  {
   "cell_type": "markdown",
   "metadata": {},
   "source": [
    "**Задание 4.**\n",
    "*Вам нужно написать программу для подбора упаковок по размерам товара. Размеры хранятся в переменных (в сантиметрах):\n",
    "- если каждое из трех измерений менее 15 сантиметров, то выведите на экран “Коробка №1”;\n",
    "- если хотя бы одно из измерений больше 15 сантиметров, но менее 50 сантиметров, то выводите “Коробка №2”;\n",
    "- если длина товара больше 2 метров, то выводите “Упаковка для лыж”;\n",
    "- во всех остальных случаях выводите “Стандартная коробка №3”.*"
   ]
  },
  {
   "cell_type": "code",
   "execution_count": 70,
   "metadata": {},
   "outputs": [],
   "source": [
    "width = 10\n",
    "length = 205\n",
    "height = 15"
   ]
  },
  {
   "cell_type": "code",
   "execution_count": 71,
   "metadata": {
    "scrolled": false
   },
   "outputs": [
    {
     "name": "stdout",
     "output_type": "stream",
     "text": [
      "Упаковка для лыж\n"
     ]
    }
   ],
   "source": [
    "if width<15 and length<15 and height<15:\n",
    "    print('Коробка №1')\n",
    "elif 15<width<50 or 15<length<50 or 15<height<50:\n",
    "    print('Коробка №2')\n",
    "elif length>200:\n",
    "    print('Упаковка для лыж')\n",
    "else:\n",
    "    print('Стандартная коробка №3')"
   ]
  },
  {
   "cell_type": "markdown",
   "metadata": {},
   "source": [
    "**Задание 5.**\n",
    "*Дана переменная, в которой хранится шестизначное число (номер проездного билета). Напишите программу, которая будет определять, является ли данный билет “счастливым”. Билет считается счастливым, если сумма первых трех цифр совпадает с суммой последних трех цифр номера.*"
   ]
  },
  {
   "cell_type": "code",
   "execution_count": 94,
   "metadata": {},
   "outputs": [
    {
     "name": "stdout",
     "output_type": "stream",
     "text": [
      "НЕсчастливый билет\n"
     ]
    }
   ],
   "source": [
    "number = 123456\n",
    "s = str (number)\n",
    "a1 = int (s[0])\n",
    "b1 = int (s[1])\n",
    "c1 = int (s[2])\n",
    "a2 = int (s[3])\n",
    "b2 = int (s[4])\n",
    "c2 = int (s[5])\n",
    "if a1 + b1 + c1 == a2 + b2 + c2:\n",
    "    print ('Счастливый билет')\n",
    "else:\n",
    "    print ('НЕсчастливый билет')\n"
   ]
  },
  {
   "cell_type": "markdown",
   "metadata": {},
   "source": [
    "**Задание 6.**\n",
    "*Напишите программу, которая сможет вычислять площади трех фигур (круг, треугольник и прямоугольник). Тип фигуры запрашиваем через пользовательский ввод, после чего делаем запрос характеристик фигуры:*\n",
    " - *если пользователь выбрал круг, запрашиваем его радиус,*\n",
    " - *если треугольник – длины трех его сторон;*\n",
    " - *если прямоугольник – длины двух его сторон.*"
   ]
  },
  {
   "cell_type": "code",
   "execution_count": 124,
   "metadata": {},
   "outputs": [
    {
     "name": "stdout",
     "output_type": "stream",
     "text": [
      "Введите фигуру: прямоугольник\n",
      "Введите длину стороны A: 10\n",
      "Введите длину стороны B: 5\n",
      "Площадь прямоугольника:  50\n"
     ]
    }
   ],
   "source": [
    "geometric_figure = input('Введите фигуру: ')\n",
    "if geometric_figure == 'круг':\n",
    "    R = int(input('Введите радиус круга: '))\n",
    "    S = 3.14*(R**2)\n",
    "    print('Площадь круга: ',S)\n",
    "elif geometric_figure == 'треугольник':\n",
    "    A = int(input('Введите длину стороны A: '))\n",
    "    B = int(input('Введите длину стороны B: '))\n",
    "    C = int(input('Введите длину стороны C: '))\n",
    "    p = (A + B + C)/2\n",
    "    S = (p*(p - A)*(p - B)*(p-C))**0.5\n",
    "    print('Площадь треугольника: ',S)\n",
    "elif geometric_figure == 'прямоугольник':\n",
    "    A = int(input('Введите длину стороны A: '))\n",
    "    B = int(input('Введите длину стороны B: '))\n",
    "    S = A * B\n",
    "    print('Площадь прямоугольника: ',S)    "
   ]
  }
 ],
 "metadata": {
  "kernelspec": {
   "display_name": "Python 3",
   "language": "python",
   "name": "python3"
  },
  "language_info": {
   "codemirror_mode": {
    "name": "ipython",
    "version": 3
   },
   "file_extension": ".py",
   "mimetype": "text/x-python",
   "name": "python",
   "nbconvert_exporter": "python",
   "pygments_lexer": "ipython3",
   "version": "3.8.5"
  }
 },
 "nbformat": 4,
 "nbformat_minor": 4
}
