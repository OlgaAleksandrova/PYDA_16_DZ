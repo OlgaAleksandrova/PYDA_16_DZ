{
 "cells": [
  {
   "cell_type": "markdown",
   "metadata": {},
   "source": [
    "### Задание 1\n",
    "*Дана переменная, в которой хранится слово из латинских букв. Напишите код, который выводит на экран:*\n",
    "- *среднюю букву, если число букв в слове нечетное*\n",
    "- *две средних буквы, если число букв четное*"
   ]
  },
  {
   "cell_type": "code",
   "execution_count": 2,
   "metadata": {
    "scrolled": true
   },
   "outputs": [
    {
     "name": "stdout",
     "output_type": "stream",
     "text": [
      "Слово содержит нечетное количество букв\n",
      "t\n"
     ]
    }
   ],
   "source": [
    "word = 'testing'\n",
    "count_letter = len(word)\n",
    "a = count_letter//2-1\n",
    "b = a+2\n",
    "x = count_letter//2\n",
    "y = x+1\n",
    "if count_letter %2 == 0:\n",
    "    print('Слово содержит четное количество букв')\n",
    "    print(word [a:b])\n",
    "else:\n",
    "    print('Слово содержит нечетное количество букв')\n",
    "    print(word [x:y])"
   ]
  },
  {
   "cell_type": "markdown",
   "metadata": {},
   "source": [
    "### Задание 2\n",
    "*Напишите программу, которая последовательно запрашивает у пользователя числа (по одному за раз) и после первого нуля выводит сумму всех ранее введенных чисел.*"
   ]
  },
  {
   "cell_type": "code",
   "execution_count": 3,
   "metadata": {},
   "outputs": [
    {
     "name": "stdout",
     "output_type": "stream",
     "text": [
      "Введите число 1\n",
      "Введите число 2\n",
      "Введите число 2\n",
      "Введите число 0\n",
      "5\n"
     ]
    }
   ],
   "source": [
    "summa = 0\n",
    "x = int(input('Введите число '))\n",
    "while x!=0:\n",
    "    summa += x   \n",
    "    x = int(input('Введите число '))\n",
    "print(summa)"
   ]
  },
  {
   "cell_type": "markdown",
   "metadata": {},
   "source": [
    "### Задание 3\n",
    "*Мы делаем MVP dating-сервиса, и у нас есть список парней и девушек.\n",
    "Выдвигаем гипотезу: лучшие рекомендации мы получим, если просто отсортируем имена по алфавиту и познакомим людей с одинаковыми индексами после сортировки! Но мы не будем никого знакомить, если кто-то может остаться без пары:*"
   ]
  },
  {
   "cell_type": "code",
   "execution_count": 6,
   "metadata": {},
   "outputs": [
    {
     "name": "stdout",
     "output_type": "stream",
     "text": [
      "Alex и Emma\n",
      "Arthur и Kate\n",
      "John и Kira\n",
      "Peter и Liza\n",
      "Richard и Trisha\n"
     ]
    }
   ],
   "source": [
    "boys = ['Peter', 'Alex', 'John', 'Arthur', 'Richard']\n",
    "girls = ['Kate', 'Liza', 'Kira', 'Trisha','Emma']\n",
    "para = zip(sorted(boys), sorted(girls))\n",
    "if len(boys) == len(girls):\n",
    "        for boys, girls in para:\n",
    "            print(boys,'и',girls)\n",
    "else:\n",
    "    print('Внимание, кто-то может остаться без пары!')"
   ]
  },
  {
   "cell_type": "markdown",
   "metadata": {},
   "source": [
    "### Задание 4\n",
    "*У нас есть список, содержащий информацию о среднедневной температуре в Фаренгейтах за произвольный период по странам (структура данных в примере). Необходимо написать код, который рассчитает среднюю температуру за период в Цельсиях(!) для каждой страны.*"
   ]
  },
  {
   "cell_type": "code",
   "execution_count": 7,
   "metadata": {},
   "outputs": [
    {
     "name": "stdout",
     "output_type": "stream",
     "text": [
      "Средняя температура в странах:\n",
      "Thailand - 23.9\n",
      "Germany - 13.8\n",
      "Russia - 3.7\n",
      "Poland - 12.0\n"
     ]
    }
   ],
   "source": [
    "countries_temperature = [\n",
    "['Thailand', [75.2, 77, 78.8, 73.4, 68, 75.2, 77]],\n",
    "['Germany', [57.2, 55.4, 59, 59, 53.6]],\n",
    "['Russia', [35.6, 37.4, 39.2, 41, 42.8, 39.2, 35.6]],\n",
    "['Poland', [50, 50, 53.6, 57.2, 55.4, 55.4]]\n",
    "]\n",
    "a = 0\n",
    "t_F = sum(countries_temperature [a][1])/len(countries_temperature [a][1])\n",
    "t_C = round((5/9)*(t_F-32), 1)\n",
    "print('Средняя температура в странах:')\n",
    "print(countries_temperature [a] [0], '-', t_C)\n",
    "for countri, t in countries_temperature:\n",
    "    a += 1\n",
    "    if a == len(countries_temperature):\n",
    "        break\n",
    "    else:\n",
    "        t_F = sum(countries_temperature [a][1])/len(countries_temperature [a][1])\n",
    "        t_C = round((5/9)*(t_F-32), 1)\n",
    "        print(countries_temperature [a] [0], '-', t_C) "
   ]
  },
  {
   "cell_type": "code",
   "execution_count": 1,
   "metadata": {},
   "outputs": [
    {
     "name": "stdout",
     "output_type": "stream",
     "text": [
      "Средняя температура в Thailand - 23.9 C\n",
      "Средняя температура в Germany - 13.8 C\n",
      "Средняя температура в Russia - 3.7 C\n",
      "Средняя температура в Poland - 12.0 C\n"
     ]
    }
   ],
   "source": [
    "countries_temperature = [\n",
    "['Thailand', [75.2, 77, 78.8, 73.4, 68, 75.2, 77]],\n",
    "['Germany', [57.2, 55.4, 59, 59, 53.6]],\n",
    "['Russia', [35.6, 37.4, 39.2, 41, 42.8, 39.2, 35.6]],\n",
    "['Poland', [50, 50, 53.6, 57.2, 55.4, 55.4]]\n",
    "]\n",
    "for element in countries_temperature:\n",
    "   avg_temp = sum(element[1]) / len(element[1])\n",
    "   print(f\"Средняя температура в {element[0]} - {round((avg_temp-32)*5/9, 1)} C\")"
   ]
  }
 ],
 "metadata": {
  "kernelspec": {
   "display_name": "Python 3",
   "language": "python",
   "name": "python3"
  },
  "language_info": {
   "codemirror_mode": {
    "name": "ipython",
    "version": 3
   },
   "file_extension": ".py",
   "mimetype": "text/x-python",
   "name": "python",
   "nbconvert_exporter": "python",
   "pygments_lexer": "ipython3",
   "version": "3.8.5"
  }
 },
 "nbformat": 4,
 "nbformat_minor": 4
}
